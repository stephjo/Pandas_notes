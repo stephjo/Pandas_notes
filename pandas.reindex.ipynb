{
 "cells": [
  {
   "cell_type": "code",
   "execution_count": 1,
   "metadata": {
    "collapsed": true
   },
   "outputs": [],
   "source": [
    "import numpy as np\n",
    "import pandas as pd\n",
    "from pandas import Series,DataFrame\n",
    "from numpy.random import randn"
   ]
  },
  {
   "cell_type": "code",
   "execution_count": 2,
   "metadata": {
    "collapsed": false
   },
   "outputs": [
    {
     "data": {
      "text/plain": [
       "A    1\n",
       "B    2\n",
       "C    3\n",
       "D    4\n",
       "dtype: int64"
      ]
     },
     "execution_count": 2,
     "metadata": {},
     "output_type": "execute_result"
    }
   ],
   "source": [
    "ser1=Series([1,2,3,4],index=['A','B','C','D'])\n",
    "ser1"
   ]
  },
  {
   "cell_type": "code",
   "execution_count": 3,
   "metadata": {
    "collapsed": false
   },
   "outputs": [
    {
     "data": {
      "text/plain": [
       "A    1.0\n",
       "B    2.0\n",
       "C    3.0\n",
       "D    4.0\n",
       "E    NaN\n",
       "F    NaN\n",
       "dtype: float64"
      ]
     },
     "execution_count": 3,
     "metadata": {},
     "output_type": "execute_result"
    }
   ],
   "source": [
    "#to reindex use reindex to assign different value to index\n",
    "ser2=ser1.reindex(['A','B','C','D','E','F'])\n",
    "ser2"
   ]
  },
  {
   "cell_type": "code",
   "execution_count": 5,
   "metadata": {
    "collapsed": false
   },
   "outputs": [
    {
     "data": {
      "text/plain": [
       "A    1.0\n",
       "B    2.0\n",
       "C    3.0\n",
       "D    4.0\n",
       "E    NaN\n",
       "F    NaN\n",
       "G    0.0\n",
       "dtype: float64"
      ]
     },
     "execution_count": 5,
     "metadata": {},
     "output_type": "execute_result"
    }
   ],
   "source": [
    "#fill value to assign series value to new index-here 0 is assigned to G\n",
    "ser2=ser2.reindex(['A','B','C','D','E','F','G'],fill_value=0)\n",
    "ser2"
   ]
  },
  {
   "cell_type": "code",
   "execution_count": 6,
   "metadata": {
    "collapsed": false
   },
   "outputs": [
    {
     "data": {
      "text/plain": [
       "0        USA\n",
       "5     Mexico\n",
       "10    Canada\n",
       "dtype: object"
      ]
     },
     "execution_count": 6,
     "metadata": {},
     "output_type": "execute_result"
    }
   ],
   "source": [
    "#using methods inside reindex\n",
    "#eg-'ffill'\n",
    "#ser=ser.reindex(range,method='')\n",
    "ser3=Series(['USA','Mexico','Canada'],index=[0,5,10])\n",
    "ser3"
   ]
  },
  {
   "cell_type": "code",
   "execution_count": 7,
   "metadata": {
    "collapsed": true
   },
   "outputs": [],
   "source": [
    "ranger=range(15)"
   ]
  },
  {
   "cell_type": "code",
   "execution_count": 8,
   "metadata": {
    "collapsed": false
   },
   "outputs": [
    {
     "data": {
      "text/plain": [
       "[0, 1, 2, 3, 4, 5, 6, 7, 8, 9, 10, 11, 12, 13, 14]"
      ]
     },
     "execution_count": 8,
     "metadata": {},
     "output_type": "execute_result"
    }
   ],
   "source": [
    "ranger"
   ]
  },
  {
   "cell_type": "code",
   "execution_count": 13,
   "metadata": {
    "collapsed": false,
    "scrolled": true
   },
   "outputs": [
    {
     "data": {
      "text/plain": [
       "0        USA\n",
       "1        USA\n",
       "2        USA\n",
       "3        USA\n",
       "4        USA\n",
       "5     Mexico\n",
       "6     Mexico\n",
       "7     Mexico\n",
       "8     Mexico\n",
       "9     Mexico\n",
       "10    Canada\n",
       "11    Canada\n",
       "12    Canada\n",
       "13    Canada\n",
       "14    Canada\n",
       "dtype: object"
      ]
     },
     "execution_count": 13,
     "metadata": {},
     "output_type": "execute_result"
    }
   ],
   "source": [
    "#ffill will forward fill with series values  until it hits the next given index and so on\n",
    "ser3=ser3.reindex(ranger,method='ffill')\n",
    "ser3"
   ]
  },
  {
   "cell_type": "code",
   "execution_count": 15,
   "metadata": {
    "collapsed": false
   },
   "outputs": [
    {
     "data": {
      "text/html": [
       "<div>\n",
       "<table border=\"1\" class=\"dataframe\">\n",
       "  <thead>\n",
       "    <tr style=\"text-align: right;\">\n",
       "      <th></th>\n",
       "      <th>col1</th>\n",
       "      <th>col2</th>\n",
       "      <th>col3</th>\n",
       "      <th>col4</th>\n",
       "      <th>col5</th>\n",
       "    </tr>\n",
       "  </thead>\n",
       "  <tbody>\n",
       "    <tr>\n",
       "      <th>A</th>\n",
       "      <td>-0.888697</td>\n",
       "      <td>-0.673708</td>\n",
       "      <td>0.257648</td>\n",
       "      <td>-0.698279</td>\n",
       "      <td>1.095057</td>\n",
       "    </tr>\n",
       "    <tr>\n",
       "      <th>B</th>\n",
       "      <td>-1.991113</td>\n",
       "      <td>1.973548</td>\n",
       "      <td>-0.694927</td>\n",
       "      <td>0.729471</td>\n",
       "      <td>-0.620451</td>\n",
       "    </tr>\n",
       "    <tr>\n",
       "      <th>C</th>\n",
       "      <td>0.858424</td>\n",
       "      <td>-0.005633</td>\n",
       "      <td>-0.086905</td>\n",
       "      <td>-1.363157</td>\n",
       "      <td>-0.673853</td>\n",
       "    </tr>\n",
       "    <tr>\n",
       "      <th>D</th>\n",
       "      <td>0.847910</td>\n",
       "      <td>-1.360766</td>\n",
       "      <td>0.712197</td>\n",
       "      <td>0.278860</td>\n",
       "      <td>-0.277543</td>\n",
       "    </tr>\n",
       "    <tr>\n",
       "      <th>F</th>\n",
       "      <td>0.767383</td>\n",
       "      <td>-1.211620</td>\n",
       "      <td>-0.587328</td>\n",
       "      <td>-1.957938</td>\n",
       "      <td>0.988850</td>\n",
       "    </tr>\n",
       "  </tbody>\n",
       "</table>\n",
       "</div>"
      ],
      "text/plain": [
       "       col1      col2      col3      col4      col5\n",
       "A -0.888697 -0.673708  0.257648 -0.698279  1.095057\n",
       "B -1.991113  1.973548 -0.694927  0.729471 -0.620451\n",
       "C  0.858424 -0.005633 -0.086905 -1.363157 -0.673853\n",
       "D  0.847910 -1.360766  0.712197  0.278860 -0.277543\n",
       "F  0.767383 -1.211620 -0.587328 -1.957938  0.988850"
      ]
     },
     "execution_count": 15,
     "metadata": {},
     "output_type": "execute_result"
    }
   ],
   "source": [
    "#creating dataframe reindex\n",
    "dframe=DataFrame(randn(25).reshape((5,5)),index=['A','B','C','D','F'],columns=['col1','col2','col3','col4','col5'])\n",
    "dframe\n",
    "                 "
   ]
  },
  {
   "cell_type": "code",
   "execution_count": 17,
   "metadata": {
    "collapsed": false
   },
   "outputs": [
    {
     "data": {
      "text/html": [
       "<div>\n",
       "<table border=\"1\" class=\"dataframe\">\n",
       "  <thead>\n",
       "    <tr style=\"text-align: right;\">\n",
       "      <th></th>\n",
       "      <th>col1</th>\n",
       "      <th>col2</th>\n",
       "      <th>col3</th>\n",
       "      <th>col4</th>\n",
       "      <th>col5</th>\n",
       "    </tr>\n",
       "  </thead>\n",
       "  <tbody>\n",
       "    <tr>\n",
       "      <th>A</th>\n",
       "      <td>-0.888697</td>\n",
       "      <td>-0.673708</td>\n",
       "      <td>0.257648</td>\n",
       "      <td>-0.698279</td>\n",
       "      <td>1.095057</td>\n",
       "    </tr>\n",
       "    <tr>\n",
       "      <th>B</th>\n",
       "      <td>-1.991113</td>\n",
       "      <td>1.973548</td>\n",
       "      <td>-0.694927</td>\n",
       "      <td>0.729471</td>\n",
       "      <td>-0.620451</td>\n",
       "    </tr>\n",
       "    <tr>\n",
       "      <th>G</th>\n",
       "      <td>NaN</td>\n",
       "      <td>NaN</td>\n",
       "      <td>NaN</td>\n",
       "      <td>NaN</td>\n",
       "      <td>NaN</td>\n",
       "    </tr>\n",
       "    <tr>\n",
       "      <th>C</th>\n",
       "      <td>0.858424</td>\n",
       "      <td>-0.005633</td>\n",
       "      <td>-0.086905</td>\n",
       "      <td>-1.363157</td>\n",
       "      <td>-0.673853</td>\n",
       "    </tr>\n",
       "    <tr>\n",
       "      <th>D</th>\n",
       "      <td>0.847910</td>\n",
       "      <td>-1.360766</td>\n",
       "      <td>0.712197</td>\n",
       "      <td>0.278860</td>\n",
       "      <td>-0.277543</td>\n",
       "    </tr>\n",
       "    <tr>\n",
       "      <th>F</th>\n",
       "      <td>0.767383</td>\n",
       "      <td>-1.211620</td>\n",
       "      <td>-0.587328</td>\n",
       "      <td>-1.957938</td>\n",
       "      <td>0.988850</td>\n",
       "    </tr>\n",
       "  </tbody>\n",
       "</table>\n",
       "</div>"
      ],
      "text/plain": [
       "       col1      col2      col3      col4      col5\n",
       "A -0.888697 -0.673708  0.257648 -0.698279  1.095057\n",
       "B -1.991113  1.973548 -0.694927  0.729471 -0.620451\n",
       "G       NaN       NaN       NaN       NaN       NaN\n",
       "C  0.858424 -0.005633 -0.086905 -1.363157 -0.673853\n",
       "D  0.847910 -1.360766  0.712197  0.278860 -0.277543\n",
       "F  0.767383 -1.211620 -0.587328 -1.957938  0.988850"
      ]
     },
     "execution_count": 17,
     "metadata": {},
     "output_type": "execute_result"
    }
   ],
   "source": [
    "#reindex index of dataframe-eg-adds G as new index\n",
    "dframe=dframe.reindex(['A','B','G','C','D','F'])\n",
    "dframe"
   ]
  },
  {
   "cell_type": "code",
   "execution_count": 18,
   "metadata": {
    "collapsed": false
   },
   "outputs": [
    {
     "data": {
      "text/html": [
       "<div>\n",
       "<table border=\"1\" class=\"dataframe\">\n",
       "  <thead>\n",
       "    <tr style=\"text-align: right;\">\n",
       "      <th></th>\n",
       "      <th>col1</th>\n",
       "      <th>col2</th>\n",
       "      <th>col3</th>\n",
       "      <th>col4</th>\n",
       "      <th>col5</th>\n",
       "      <th>col6</th>\n",
       "    </tr>\n",
       "  </thead>\n",
       "  <tbody>\n",
       "    <tr>\n",
       "      <th>A</th>\n",
       "      <td>-0.888697</td>\n",
       "      <td>-0.673708</td>\n",
       "      <td>0.257648</td>\n",
       "      <td>-0.698279</td>\n",
       "      <td>1.095057</td>\n",
       "      <td>NaN</td>\n",
       "    </tr>\n",
       "    <tr>\n",
       "      <th>B</th>\n",
       "      <td>-1.991113</td>\n",
       "      <td>1.973548</td>\n",
       "      <td>-0.694927</td>\n",
       "      <td>0.729471</td>\n",
       "      <td>-0.620451</td>\n",
       "      <td>NaN</td>\n",
       "    </tr>\n",
       "    <tr>\n",
       "      <th>G</th>\n",
       "      <td>NaN</td>\n",
       "      <td>NaN</td>\n",
       "      <td>NaN</td>\n",
       "      <td>NaN</td>\n",
       "      <td>NaN</td>\n",
       "      <td>NaN</td>\n",
       "    </tr>\n",
       "    <tr>\n",
       "      <th>C</th>\n",
       "      <td>0.858424</td>\n",
       "      <td>-0.005633</td>\n",
       "      <td>-0.086905</td>\n",
       "      <td>-1.363157</td>\n",
       "      <td>-0.673853</td>\n",
       "      <td>NaN</td>\n",
       "    </tr>\n",
       "    <tr>\n",
       "      <th>D</th>\n",
       "      <td>0.847910</td>\n",
       "      <td>-1.360766</td>\n",
       "      <td>0.712197</td>\n",
       "      <td>0.278860</td>\n",
       "      <td>-0.277543</td>\n",
       "      <td>NaN</td>\n",
       "    </tr>\n",
       "    <tr>\n",
       "      <th>F</th>\n",
       "      <td>0.767383</td>\n",
       "      <td>-1.211620</td>\n",
       "      <td>-0.587328</td>\n",
       "      <td>-1.957938</td>\n",
       "      <td>0.988850</td>\n",
       "      <td>NaN</td>\n",
       "    </tr>\n",
       "  </tbody>\n",
       "</table>\n",
       "</div>"
      ],
      "text/plain": [
       "       col1      col2      col3      col4      col5  col6\n",
       "A -0.888697 -0.673708  0.257648 -0.698279  1.095057   NaN\n",
       "B -1.991113  1.973548 -0.694927  0.729471 -0.620451   NaN\n",
       "G       NaN       NaN       NaN       NaN       NaN   NaN\n",
       "C  0.858424 -0.005633 -0.086905 -1.363157 -0.673853   NaN\n",
       "D  0.847910 -1.360766  0.712197  0.278860 -0.277543   NaN\n",
       "F  0.767383 -1.211620 -0.587328 -1.957938  0.988850   NaN"
      ]
     },
     "execution_count": 18,
     "metadata": {},
     "output_type": "execute_result"
    }
   ],
   "source": [
    "#reindex column headers-eg-added new column 'col6'\n",
    "new_cols=['col1','col2','col3','col4','col5','col6']\n",
    "dframe=dframe.reindex(columns=new_cols)\n",
    "dframe"
   ]
  },
  {
   "cell_type": "code",
   "execution_count": 19,
   "metadata": {
    "collapsed": false,
    "scrolled": true
   },
   "outputs": [
    {
     "data": {
      "text/html": [
       "<div>\n",
       "<table border=\"1\" class=\"dataframe\">\n",
       "  <thead>\n",
       "    <tr style=\"text-align: right;\">\n",
       "      <th></th>\n",
       "      <th>col1</th>\n",
       "      <th>col2</th>\n",
       "      <th>col3</th>\n",
       "      <th>col4</th>\n",
       "      <th>col5</th>\n",
       "      <th>col6</th>\n",
       "    </tr>\n",
       "  </thead>\n",
       "  <tbody>\n",
       "    <tr>\n",
       "      <th>A</th>\n",
       "      <td>-0.888697</td>\n",
       "      <td>-0.673708</td>\n",
       "      <td>0.257648</td>\n",
       "      <td>-0.698279</td>\n",
       "      <td>1.095057</td>\n",
       "      <td>NaN</td>\n",
       "    </tr>\n",
       "    <tr>\n",
       "      <th>B</th>\n",
       "      <td>-1.991113</td>\n",
       "      <td>1.973548</td>\n",
       "      <td>-0.694927</td>\n",
       "      <td>0.729471</td>\n",
       "      <td>-0.620451</td>\n",
       "      <td>NaN</td>\n",
       "    </tr>\n",
       "    <tr>\n",
       "      <th>C</th>\n",
       "      <td>0.858424</td>\n",
       "      <td>-0.005633</td>\n",
       "      <td>-0.086905</td>\n",
       "      <td>-1.363157</td>\n",
       "      <td>-0.673853</td>\n",
       "      <td>NaN</td>\n",
       "    </tr>\n",
       "    <tr>\n",
       "      <th>D</th>\n",
       "      <td>0.847910</td>\n",
       "      <td>-1.360766</td>\n",
       "      <td>0.712197</td>\n",
       "      <td>0.278860</td>\n",
       "      <td>-0.277543</td>\n",
       "      <td>NaN</td>\n",
       "    </tr>\n",
       "    <tr>\n",
       "      <th>E</th>\n",
       "      <td>NaN</td>\n",
       "      <td>NaN</td>\n",
       "      <td>NaN</td>\n",
       "      <td>NaN</td>\n",
       "      <td>NaN</td>\n",
       "      <td>NaN</td>\n",
       "    </tr>\n",
       "    <tr>\n",
       "      <th>F</th>\n",
       "      <td>0.767383</td>\n",
       "      <td>-1.211620</td>\n",
       "      <td>-0.587328</td>\n",
       "      <td>-1.957938</td>\n",
       "      <td>0.988850</td>\n",
       "      <td>NaN</td>\n",
       "    </tr>\n",
       "  </tbody>\n",
       "</table>\n",
       "</div>"
      ],
      "text/plain": [
       "       col1      col2      col3      col4      col5  col6\n",
       "A -0.888697 -0.673708  0.257648 -0.698279  1.095057   NaN\n",
       "B -1.991113  1.973548 -0.694927  0.729471 -0.620451   NaN\n",
       "C  0.858424 -0.005633 -0.086905 -1.363157 -0.673853   NaN\n",
       "D  0.847910 -1.360766  0.712197  0.278860 -0.277543   NaN\n",
       "E       NaN       NaN       NaN       NaN       NaN   NaN\n",
       "F  0.767383 -1.211620 -0.587328 -1.957938  0.988850   NaN"
      ]
     },
     "execution_count": 19,
     "metadata": {},
     "output_type": "execute_result"
    }
   ],
   "source": [
    "#faster way to reindex dframe is to use 'ix'\n",
    "dframe=dframe.ix[['A','B','C','D','E','F'],new_cols]\n",
    "dframe"
   ]
  },
  {
   "cell_type": "code",
   "execution_count": null,
   "metadata": {
    "collapsed": true
   },
   "outputs": [],
   "source": []
  }
 ],
 "metadata": {
  "kernelspec": {
   "display_name": "Python [Root]",
   "language": "python",
   "name": "Python [Root]"
  },
  "language_info": {
   "codemirror_mode": {
    "name": "ipython",
    "version": 2
   },
   "file_extension": ".py",
   "mimetype": "text/x-python",
   "name": "python",
   "nbconvert_exporter": "python",
   "pygments_lexer": "ipython2",
   "version": "2.7.12"
  }
 },
 "nbformat": 4,
 "nbformat_minor": 0
}
